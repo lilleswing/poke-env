{
 "cells": [
  {
   "cell_type": "code",
   "execution_count": 20,
   "id": "8988483d-15fe-47a9-a093-54e5089ab6f4",
   "metadata": {},
   "outputs": [],
   "source": [
    "import pickle"
   ]
  },
  {
   "cell_type": "code",
   "execution_count": 21,
   "id": "8ac7948c-6446-4329-9b80-99851455d3be",
   "metadata": {},
   "outputs": [],
   "source": [
    "with open('battle.pickle', 'rb') as fin:\n",
    "    o = pickle.load(fin)"
   ]
  },
  {
   "cell_type": "code",
   "execution_count": 22,
   "id": "cba5c601-8c49-4b4c-b4ed-3b70c622155f",
   "metadata": {},
   "outputs": [
    {
     "data": {
      "text/plain": [
       "poke_env.environment.pokemon.Gen8Pokemon"
      ]
     },
     "execution_count": 22,
     "metadata": {},
     "output_type": "execute_result"
    }
   ],
   "source": [
    "type(o.active_pokemon)"
   ]
  },
  {
   "cell_type": "code",
   "execution_count": 23,
   "id": "3b666509-8c45-4347-aa35-1df56752c8ff",
   "metadata": {},
   "outputs": [
    {
     "data": {
      "text/plain": [
       "[bulkup (Move object),\n",
       " machpunch (Move object),\n",
       " drainpunch (Move object),\n",
       " knockoff (Move object)]"
      ]
     },
     "execution_count": 23,
     "metadata": {},
     "output_type": "execute_result"
    }
   ],
   "source": [
    "o.available_moves"
   ]
  },
  {
   "cell_type": "code",
   "execution_count": 24,
   "id": "3f5003f2-f372-4cca-ad58-9aa1e7741aad",
   "metadata": {},
   "outputs": [
    {
     "data": {
      "text/plain": [
       "bulkup (Move object)"
      ]
     },
     "execution_count": 24,
     "metadata": {},
     "output_type": "execute_result"
    }
   ],
   "source": [
    "o.available_moves[0]"
   ]
  },
  {
   "cell_type": "code",
   "execution_count": 26,
   "id": "3150e1c5-9c76-478c-be27-6c325b55fb3e",
   "metadata": {},
   "outputs": [],
   "source": [
    "bulkup = o.available_moves[0]"
   ]
  },
  {
   "cell_type": "code",
   "execution_count": 28,
   "id": "fd3b99ac-5f8b-4195-8c1e-acc3392aa748",
   "metadata": {},
   "outputs": [
    {
     "data": {
      "text/plain": [
       "poke_env.environment.move.Gen8Move"
      ]
     },
     "execution_count": 28,
     "metadata": {},
     "output_type": "execute_result"
    }
   ],
   "source": [
    "type(bulkup)"
   ]
  },
  {
   "cell_type": "code",
   "execution_count": 29,
   "id": "97529d7f-8b79-4a8d-9d82-0f5f409d46fa",
   "metadata": {},
   "outputs": [
    {
     "data": {
      "text/plain": [
       "xatu (pokemon object) [Active: True, Status: None]"
      ]
     },
     "execution_count": 29,
     "metadata": {},
     "output_type": "execute_result"
    }
   ],
   "source": [
    "o.opponent_active_pokemon"
   ]
  },
  {
   "cell_type": "code",
   "execution_count": 31,
   "id": "c19f10b0-aa91-464d-893f-8d7a754d93db",
   "metadata": {},
   "outputs": [],
   "source": [
    "xatu = o.opponent_team['p2: Xatu']"
   ]
  },
  {
   "cell_type": "code",
   "execution_count": 37,
   "id": "44c38ba0-303d-496a-ae6d-e29e4c0c532c",
   "metadata": {},
   "outputs": [
    {
     "data": {
      "text/plain": [
       "{'hp': 65, 'atk': 75, 'def': 70, 'spa': 95, 'spd': 70, 'spe': 95}"
      ]
     },
     "execution_count": 37,
     "metadata": {},
     "output_type": "execute_result"
    }
   ],
   "source": [
    "xatu.base_stats"
   ]
  },
  {
   "cell_type": "code",
   "execution_count": 34,
   "id": "8090edb4-a498-47f4-9dc3-23746d1195b9",
   "metadata": {},
   "outputs": [
    {
     "data": {
      "text/plain": [
       "False"
      ]
     },
     "execution_count": 34,
     "metadata": {},
     "output_type": "execute_result"
    }
   ],
   "source": [
    "xatu.is_dynamaxed"
   ]
  },
  {
   "cell_type": "code",
   "execution_count": null,
   "id": "3624c1b5-c47a-4c58-a3a7-5ac8c187ec54",
   "metadata": {},
   "outputs": [],
   "source": []
  },
  {
   "cell_type": "code",
   "execution_count": null,
   "id": "d1ff88f5-3807-4b62-b7c8-cff134a5d8ee",
   "metadata": {},
   "outputs": [],
   "source": [
    "# TODO (STATUS ADD)\n",
    "# TODO (MOVES ADD)\n",
    "\n",
    "\n",
    "# What can be a feature vectore -- keep it simple\n",
    "# pokemon team\n",
    "# 6 x\n",
    "# type1, type2\n",
    "# current_hp, max_hp, atk, def, spa, spd, spe\n",
    "\n",
    "# Other Team\n",
    "# 6 x \n",
    "# type1, typ2\n",
    "# current_hp, max_hp, atk, def, spa, spd, spe\n",
    "# is_dynamaxed\n"
   ]
  }
 ],
 "metadata": {
  "kernelspec": {
   "display_name": "Python 3 (ipykernel)",
   "language": "python",
   "name": "python3"
  },
  "language_info": {
   "codemirror_mode": {
    "name": "ipython",
    "version": 3
   },
   "file_extension": ".py",
   "mimetype": "text/x-python",
   "name": "python",
   "nbconvert_exporter": "python",
   "pygments_lexer": "ipython3",
   "version": "3.9.13"
  }
 },
 "nbformat": 4,
 "nbformat_minor": 5
}
