{
 "cells": [
  {
   "cell_type": "code",
   "execution_count": 1,
   "id": "5aa94352-5fe0-4467-ad44-32f4b2a5b126",
   "metadata": {},
   "outputs": [
    {
     "ename": "ModuleNotFoundError",
     "evalue": "No module named 'poke_env'",
     "output_type": "error",
     "traceback": [
      "\u001b[0;31m---------------------------------------------------------------------------\u001b[0m",
      "\u001b[0;31mModuleNotFoundError\u001b[0m                       Traceback (most recent call last)",
      "Input \u001b[0;32mIn [1]\u001b[0m, in \u001b[0;36m<cell line: 1>\u001b[0;34m()\u001b[0m\n\u001b[0;32m----> 1\u001b[0m \u001b[38;5;28;01mfrom\u001b[39;00m \u001b[38;5;21;01mpoke_env\u001b[39;00m\u001b[38;5;21;01m.\u001b[39;00m\u001b[38;5;21;01mserver_configuration\u001b[39;00m \u001b[38;5;28;01mimport\u001b[39;00m ServerConfiguration\n\u001b[1;32m      3\u001b[0m \u001b[38;5;66;03m# If your server is accessible at my.custom.host:5432, and your authentication\u001b[39;00m\n\u001b[1;32m      4\u001b[0m \u001b[38;5;66;03m# endpoint is authentication-endpoint.com/action.php?\u001b[39;00m\n\u001b[1;32m      5\u001b[0m my_server_config\u001b[38;5;241m=\u001b[39m ServerConfiguration(\n\u001b[1;32m      6\u001b[0m     \u001b[38;5;124m\"\u001b[39m\u001b[38;5;124mlocalhost:8000\u001b[39m\u001b[38;5;124m\"\u001b[39m,\n\u001b[1;32m      7\u001b[0m )\n",
      "\u001b[0;31mModuleNotFoundError\u001b[0m: No module named 'poke_env'"
     ]
    }
   ],
   "source": [
    "from poke_env.server_configuration import ServerConfiguration\n",
    "\n",
    "# If your server is accessible at my.custom.host:5432, and your authentication\n",
    "# endpoint is authentication-endpoint.com/action.php?\n",
    "my_server_config= ServerConfiguration(\n",
    "    \"localhost:8000\",\n",
    ")"
   ]
  },
  {
   "cell_type": "code",
   "execution_count": 2,
   "id": "f3b2b91b-466b-4ea5-b6fa-efdbca380248",
   "metadata": {},
   "outputs": [
    {
     "name": "stdout",
     "output_type": "stream",
     "text": [
      "/Users/leswing/miniconda3/envs/poke-env/bin/python\n"
     ]
    }
   ],
   "source": [
    "!which python"
   ]
  },
  {
   "cell_type": "code",
   "execution_count": null,
   "id": "24c9c315-bd6d-4e96-b548-9d75ec7f103e",
   "metadata": {},
   "outputs": [],
   "source": []
  }
 ],
 "metadata": {
  "kernelspec": {
   "display_name": "Python 3 (ipykernel)",
   "language": "python",
   "name": "python3"
  },
  "language_info": {
   "codemirror_mode": {
    "name": "ipython",
    "version": 3
   },
   "file_extension": ".py",
   "mimetype": "text/x-python",
   "name": "python",
   "nbconvert_exporter": "python",
   "pygments_lexer": "ipython3",
   "version": "3.9.13"
  }
 },
 "nbformat": 4,
 "nbformat_minor": 5
}
